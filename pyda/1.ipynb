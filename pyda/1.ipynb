{
  "nbformat": 4,
  "nbformat_minor": 0,
  "metadata": {
    "colab": {
      "name": "1.ipynb",
      "provenance": [],
      "collapsed_sections": [],
      "authorship_tag": "ABX9TyMW5nXzp4uEptiJ4m2L1NxA",
      "include_colab_link": true
    },
    "kernelspec": {
      "name": "python3",
      "display_name": "Python 3"
    },
    "language_info": {
      "name": "python"
    }
  },
  "cells": [
    {
      "cell_type": "markdown",
      "metadata": {
        "id": "view-in-github",
        "colab_type": "text"
      },
      "source": [
        "<a href=\"https://colab.research.google.com/github/jaaaamj0711/TIL/blob/main/pyda/1.ipynb\" target=\"_parent\"><img src=\"https://colab.research.google.com/assets/colab-badge.svg\" alt=\"Open In Colab\"/></a>"
      ]
    },
    {
      "cell_type": "code",
      "metadata": {
        "colab": {
          "base_uri": "https://localhost:8080/"
        },
        "id": "SFVldtNzhLPn",
        "outputId": "82deaee6-d728-4ae5-8998-6f52bc008e7f"
      },
      "source": [
        "!git clone https://github.com/wikibook/pyda100.git"
      ],
      "execution_count": 1,
      "outputs": [
        {
          "output_type": "stream",
          "text": [
            "Cloning into 'pyda100'...\n",
            "remote: Enumerating objects: 494, done.\u001b[K\n",
            "remote: Counting objects: 100% (5/5), done.\u001b[K\n",
            "remote: Compressing objects: 100% (5/5), done.\u001b[K\n",
            "remote: Total 494 (delta 0), reused 1 (delta 0), pack-reused 489\u001b[K\n",
            "Receiving objects: 100% (494/494), 476.81 MiB | 33.53 MiB/s, done.\n",
            "Resolving deltas: 100% (14/14), done.\n",
            "Checking out files: 100% (476/476), done.\n"
          ],
          "name": "stdout"
        }
      ]
    },
    {
      "cell_type": "code",
      "metadata": {
        "id": "4PwqeQYAhNXS"
      },
      "source": [
        "import os\n",
        "import pandas as pd"
      ],
      "execution_count": 9,
      "outputs": []
    },
    {
      "cell_type": "code",
      "metadata": {
        "id": "mJYbYFVwhmc5"
      },
      "source": [
        "os.chdir(\"/content/pyda100/1장\")"
      ],
      "execution_count": 7,
      "outputs": []
    },
    {
      "cell_type": "code",
      "metadata": {
        "colab": {
          "base_uri": "https://localhost:8080/"
        },
        "id": "Oe3razxghoCM",
        "outputId": "fd119fb4-bd43-4bb5-fc41-738993336505"
      },
      "source": [
        "os.listdir()"
      ],
      "execution_count": 8,
      "outputs": [
        {
          "output_type": "execute_result",
          "data": {
            "text/plain": [
              "['customer_master.csv',\n",
              " '.ipynb_checkpoints',\n",
              " '제1장_answer.ipynb',\n",
              " 'transaction_detail_2.csv',\n",
              " 'transaction_2.csv',\n",
              " 'item_master.csv',\n",
              " 'transaction_1.csv',\n",
              " 'transaction_detail_1.csv']"
            ]
          },
          "metadata": {
            "tags": []
          },
          "execution_count": 8
        }
      ]
    },
    {
      "cell_type": "code",
      "metadata": {
        "colab": {
          "base_uri": "https://localhost:8080/",
          "height": 204
        },
        "id": "l12iEPfbh0kF",
        "outputId": "265b93fb-8b50-4d24-ba57-309a6246d4e8"
      },
      "source": [
        "customer_master = pd.read_csv(\"customer_master.csv\")\n",
        "customer_master.head()"
      ],
      "execution_count": 33,
      "outputs": [
        {
          "output_type": "execute_result",
          "data": {
            "text/html": [
              "<div>\n",
              "<style scoped>\n",
              "    .dataframe tbody tr th:only-of-type {\n",
              "        vertical-align: middle;\n",
              "    }\n",
              "\n",
              "    .dataframe tbody tr th {\n",
              "        vertical-align: top;\n",
              "    }\n",
              "\n",
              "    .dataframe thead th {\n",
              "        text-align: right;\n",
              "    }\n",
              "</style>\n",
              "<table border=\"1\" class=\"dataframe\">\n",
              "  <thead>\n",
              "    <tr style=\"text-align: right;\">\n",
              "      <th></th>\n",
              "      <th>customer_id</th>\n",
              "      <th>customer_name</th>\n",
              "      <th>registration_date</th>\n",
              "      <th>email</th>\n",
              "      <th>gender</th>\n",
              "      <th>age</th>\n",
              "      <th>birth</th>\n",
              "      <th>pref</th>\n",
              "    </tr>\n",
              "  </thead>\n",
              "  <tbody>\n",
              "    <tr>\n",
              "      <th>0</th>\n",
              "      <td>IK152942</td>\n",
              "      <td>김서준</td>\n",
              "      <td>2019-01-01 0:25</td>\n",
              "      <td>hirata_yuujirou@example.com</td>\n",
              "      <td>M</td>\n",
              "      <td>29</td>\n",
              "      <td>1990-06-10</td>\n",
              "      <td>대전광역시</td>\n",
              "    </tr>\n",
              "    <tr>\n",
              "      <th>1</th>\n",
              "      <td>TS808488</td>\n",
              "      <td>김예준</td>\n",
              "      <td>2019-01-01 1:13</td>\n",
              "      <td>tamura_shiori@example.com</td>\n",
              "      <td>F</td>\n",
              "      <td>33</td>\n",
              "      <td>1986-05-20</td>\n",
              "      <td>인천광역시</td>\n",
              "    </tr>\n",
              "    <tr>\n",
              "      <th>2</th>\n",
              "      <td>AS834628</td>\n",
              "      <td>김도윤</td>\n",
              "      <td>2019-01-01 2:00</td>\n",
              "      <td>hisano_yuki@example.com</td>\n",
              "      <td>F</td>\n",
              "      <td>63</td>\n",
              "      <td>1956-01-02</td>\n",
              "      <td>광주광역시</td>\n",
              "    </tr>\n",
              "    <tr>\n",
              "      <th>3</th>\n",
              "      <td>AS345469</td>\n",
              "      <td>김시우</td>\n",
              "      <td>2019-01-01 4:48</td>\n",
              "      <td>tsuruoka_kaoru@example.com</td>\n",
              "      <td>M</td>\n",
              "      <td>74</td>\n",
              "      <td>1945-03-25</td>\n",
              "      <td>인천광역시</td>\n",
              "    </tr>\n",
              "    <tr>\n",
              "      <th>4</th>\n",
              "      <td>GD892565</td>\n",
              "      <td>김주원</td>\n",
              "      <td>2019-01-01 4:54</td>\n",
              "      <td>oouchi_takashi@example.com</td>\n",
              "      <td>M</td>\n",
              "      <td>54</td>\n",
              "      <td>1965-08-05</td>\n",
              "      <td>울산광역시</td>\n",
              "    </tr>\n",
              "  </tbody>\n",
              "</table>\n",
              "</div>"
            ],
            "text/plain": [
              "  customer_id customer_name registration_date  ... age       birth   pref\n",
              "0    IK152942           김서준   2019-01-01 0:25  ...  29  1990-06-10  대전광역시\n",
              "1    TS808488           김예준   2019-01-01 1:13  ...  33  1986-05-20  인천광역시\n",
              "2    AS834628           김도윤   2019-01-01 2:00  ...  63  1956-01-02  광주광역시\n",
              "3    AS345469           김시우   2019-01-01 4:48  ...  74  1945-03-25  인천광역시\n",
              "4    GD892565           김주원   2019-01-01 4:54  ...  54  1965-08-05  울산광역시\n",
              "\n",
              "[5 rows x 8 columns]"
            ]
          },
          "metadata": {
            "tags": []
          },
          "execution_count": 33
        }
      ]
    },
    {
      "cell_type": "code",
      "metadata": {
        "colab": {
          "base_uri": "https://localhost:8080/",
          "height": 204
        },
        "id": "ZsBJ399VlMAT",
        "outputId": "3ad53a11-f919-4350-bf6c-629baa66bdb3"
      },
      "source": [
        "item_master = pd.read_csv(\"item_master.csv\")\n",
        "item_master.head()"
      ],
      "execution_count": 34,
      "outputs": [
        {
          "output_type": "execute_result",
          "data": {
            "text/html": [
              "<div>\n",
              "<style scoped>\n",
              "    .dataframe tbody tr th:only-of-type {\n",
              "        vertical-align: middle;\n",
              "    }\n",
              "\n",
              "    .dataframe tbody tr th {\n",
              "        vertical-align: top;\n",
              "    }\n",
              "\n",
              "    .dataframe thead th {\n",
              "        text-align: right;\n",
              "    }\n",
              "</style>\n",
              "<table border=\"1\" class=\"dataframe\">\n",
              "  <thead>\n",
              "    <tr style=\"text-align: right;\">\n",
              "      <th></th>\n",
              "      <th>item_id</th>\n",
              "      <th>item_name</th>\n",
              "      <th>item_price</th>\n",
              "    </tr>\n",
              "  </thead>\n",
              "  <tbody>\n",
              "    <tr>\n",
              "      <th>0</th>\n",
              "      <td>S001</td>\n",
              "      <td>PC-A</td>\n",
              "      <td>50000</td>\n",
              "    </tr>\n",
              "    <tr>\n",
              "      <th>1</th>\n",
              "      <td>S002</td>\n",
              "      <td>PC-B</td>\n",
              "      <td>85000</td>\n",
              "    </tr>\n",
              "    <tr>\n",
              "      <th>2</th>\n",
              "      <td>S003</td>\n",
              "      <td>PC-C</td>\n",
              "      <td>120000</td>\n",
              "    </tr>\n",
              "    <tr>\n",
              "      <th>3</th>\n",
              "      <td>S004</td>\n",
              "      <td>PC-D</td>\n",
              "      <td>180000</td>\n",
              "    </tr>\n",
              "    <tr>\n",
              "      <th>4</th>\n",
              "      <td>S005</td>\n",
              "      <td>PC-E</td>\n",
              "      <td>210000</td>\n",
              "    </tr>\n",
              "  </tbody>\n",
              "</table>\n",
              "</div>"
            ],
            "text/plain": [
              "  item_id item_name  item_price\n",
              "0    S001      PC-A       50000\n",
              "1    S002      PC-B       85000\n",
              "2    S003      PC-C      120000\n",
              "3    S004      PC-D      180000\n",
              "4    S005      PC-E      210000"
            ]
          },
          "metadata": {
            "tags": []
          },
          "execution_count": 34
        }
      ]
    },
    {
      "cell_type": "code",
      "metadata": {
        "colab": {
          "base_uri": "https://localhost:8080/",
          "height": 204
        },
        "id": "y8CpBKLulWAU",
        "outputId": "e7630d55-5559-428a-adf2-70589571a75d"
      },
      "source": [
        "transaction_1 = pd.read_csv(\"transaction_1.csv\")\n",
        "transaction_1.head()"
      ],
      "execution_count": 35,
      "outputs": [
        {
          "output_type": "execute_result",
          "data": {
            "text/html": [
              "<div>\n",
              "<style scoped>\n",
              "    .dataframe tbody tr th:only-of-type {\n",
              "        vertical-align: middle;\n",
              "    }\n",
              "\n",
              "    .dataframe tbody tr th {\n",
              "        vertical-align: top;\n",
              "    }\n",
              "\n",
              "    .dataframe thead th {\n",
              "        text-align: right;\n",
              "    }\n",
              "</style>\n",
              "<table border=\"1\" class=\"dataframe\">\n",
              "  <thead>\n",
              "    <tr style=\"text-align: right;\">\n",
              "      <th></th>\n",
              "      <th>transaction_id</th>\n",
              "      <th>price</th>\n",
              "      <th>payment_date</th>\n",
              "      <th>customer_id</th>\n",
              "    </tr>\n",
              "  </thead>\n",
              "  <tbody>\n",
              "    <tr>\n",
              "      <th>0</th>\n",
              "      <td>T0000000113</td>\n",
              "      <td>210000</td>\n",
              "      <td>2019-02-01 01:36:57</td>\n",
              "      <td>PL563502</td>\n",
              "    </tr>\n",
              "    <tr>\n",
              "      <th>1</th>\n",
              "      <td>T0000000114</td>\n",
              "      <td>50000</td>\n",
              "      <td>2019-02-01 01:37:23</td>\n",
              "      <td>HD678019</td>\n",
              "    </tr>\n",
              "    <tr>\n",
              "      <th>2</th>\n",
              "      <td>T0000000115</td>\n",
              "      <td>120000</td>\n",
              "      <td>2019-02-01 02:34:19</td>\n",
              "      <td>HD298120</td>\n",
              "    </tr>\n",
              "    <tr>\n",
              "      <th>3</th>\n",
              "      <td>T0000000116</td>\n",
              "      <td>210000</td>\n",
              "      <td>2019-02-01 02:47:23</td>\n",
              "      <td>IK452215</td>\n",
              "    </tr>\n",
              "    <tr>\n",
              "      <th>4</th>\n",
              "      <td>T0000000117</td>\n",
              "      <td>170000</td>\n",
              "      <td>2019-02-01 04:33:46</td>\n",
              "      <td>PL542865</td>\n",
              "    </tr>\n",
              "  </tbody>\n",
              "</table>\n",
              "</div>"
            ],
            "text/plain": [
              "  transaction_id   price         payment_date customer_id\n",
              "0    T0000000113  210000  2019-02-01 01:36:57    PL563502\n",
              "1    T0000000114   50000  2019-02-01 01:37:23    HD678019\n",
              "2    T0000000115  120000  2019-02-01 02:34:19    HD298120\n",
              "3    T0000000116  210000  2019-02-01 02:47:23    IK452215\n",
              "4    T0000000117  170000  2019-02-01 04:33:46    PL542865"
            ]
          },
          "metadata": {
            "tags": []
          },
          "execution_count": 35
        }
      ]
    },
    {
      "cell_type": "code",
      "metadata": {
        "colab": {
          "base_uri": "https://localhost:8080/",
          "height": 204
        },
        "id": "07CO9Fvpmam9",
        "outputId": "e0b95f24-896e-4474-b60c-c753a5f264fe"
      },
      "source": [
        "transaction_2 = pd.read_csv(\"transaction_2.csv\")\n",
        "transaction_2.head()"
      ],
      "execution_count": 36,
      "outputs": [
        {
          "output_type": "execute_result",
          "data": {
            "text/html": [
              "<div>\n",
              "<style scoped>\n",
              "    .dataframe tbody tr th:only-of-type {\n",
              "        vertical-align: middle;\n",
              "    }\n",
              "\n",
              "    .dataframe tbody tr th {\n",
              "        vertical-align: top;\n",
              "    }\n",
              "\n",
              "    .dataframe thead th {\n",
              "        text-align: right;\n",
              "    }\n",
              "</style>\n",
              "<table border=\"1\" class=\"dataframe\">\n",
              "  <thead>\n",
              "    <tr style=\"text-align: right;\">\n",
              "      <th></th>\n",
              "      <th>transaction_id</th>\n",
              "      <th>price</th>\n",
              "      <th>payment_date</th>\n",
              "      <th>customer_id</th>\n",
              "    </tr>\n",
              "  </thead>\n",
              "  <tbody>\n",
              "    <tr>\n",
              "      <th>0</th>\n",
              "      <td>T0000005113</td>\n",
              "      <td>295000</td>\n",
              "      <td>2019-06-15 07:20:27</td>\n",
              "      <td>TS169261</td>\n",
              "    </tr>\n",
              "    <tr>\n",
              "      <th>1</th>\n",
              "      <td>T0000005114</td>\n",
              "      <td>50000</td>\n",
              "      <td>2019-06-15 07:35:47</td>\n",
              "      <td>HI599892</td>\n",
              "    </tr>\n",
              "    <tr>\n",
              "      <th>2</th>\n",
              "      <td>T0000005115</td>\n",
              "      <td>85000</td>\n",
              "      <td>2019-06-15 07:56:36</td>\n",
              "      <td>HI421757</td>\n",
              "    </tr>\n",
              "    <tr>\n",
              "      <th>3</th>\n",
              "      <td>T0000005116</td>\n",
              "      <td>50000</td>\n",
              "      <td>2019-06-15 08:40:55</td>\n",
              "      <td>OA386378</td>\n",
              "    </tr>\n",
              "    <tr>\n",
              "      <th>4</th>\n",
              "      <td>T0000005117</td>\n",
              "      <td>120000</td>\n",
              "      <td>2019-06-15 08:44:23</td>\n",
              "      <td>TS506913</td>\n",
              "    </tr>\n",
              "  </tbody>\n",
              "</table>\n",
              "</div>"
            ],
            "text/plain": [
              "  transaction_id   price         payment_date customer_id\n",
              "0    T0000005113  295000  2019-06-15 07:20:27    TS169261\n",
              "1    T0000005114   50000  2019-06-15 07:35:47    HI599892\n",
              "2    T0000005115   85000  2019-06-15 07:56:36    HI421757\n",
              "3    T0000005116   50000  2019-06-15 08:40:55    OA386378\n",
              "4    T0000005117  120000  2019-06-15 08:44:23    TS506913"
            ]
          },
          "metadata": {
            "tags": []
          },
          "execution_count": 36
        }
      ]
    },
    {
      "cell_type": "code",
      "metadata": {
        "colab": {
          "base_uri": "https://localhost:8080/",
          "height": 142
        },
        "id": "Tt2OLkeKlk0o",
        "outputId": "37be9451-b12b-4cc6-ea2a-5a9555c4ddc4"
      },
      "source": [
        "transaction = pd.concat([transaction_1, transaction_2], ignore_index=True) #i gnore_index=True : 기존 인덱스를 무시\n",
        "transaction.head(3)"
      ],
      "execution_count": 37,
      "outputs": [
        {
          "output_type": "execute_result",
          "data": {
            "text/html": [
              "<div>\n",
              "<style scoped>\n",
              "    .dataframe tbody tr th:only-of-type {\n",
              "        vertical-align: middle;\n",
              "    }\n",
              "\n",
              "    .dataframe tbody tr th {\n",
              "        vertical-align: top;\n",
              "    }\n",
              "\n",
              "    .dataframe thead th {\n",
              "        text-align: right;\n",
              "    }\n",
              "</style>\n",
              "<table border=\"1\" class=\"dataframe\">\n",
              "  <thead>\n",
              "    <tr style=\"text-align: right;\">\n",
              "      <th></th>\n",
              "      <th>transaction_id</th>\n",
              "      <th>price</th>\n",
              "      <th>payment_date</th>\n",
              "      <th>customer_id</th>\n",
              "    </tr>\n",
              "  </thead>\n",
              "  <tbody>\n",
              "    <tr>\n",
              "      <th>0</th>\n",
              "      <td>T0000000113</td>\n",
              "      <td>210000</td>\n",
              "      <td>2019-02-01 01:36:57</td>\n",
              "      <td>PL563502</td>\n",
              "    </tr>\n",
              "    <tr>\n",
              "      <th>1</th>\n",
              "      <td>T0000000114</td>\n",
              "      <td>50000</td>\n",
              "      <td>2019-02-01 01:37:23</td>\n",
              "      <td>HD678019</td>\n",
              "    </tr>\n",
              "    <tr>\n",
              "      <th>2</th>\n",
              "      <td>T0000000115</td>\n",
              "      <td>120000</td>\n",
              "      <td>2019-02-01 02:34:19</td>\n",
              "      <td>HD298120</td>\n",
              "    </tr>\n",
              "  </tbody>\n",
              "</table>\n",
              "</div>"
            ],
            "text/plain": [
              "  transaction_id   price         payment_date customer_id\n",
              "0    T0000000113  210000  2019-02-01 01:36:57    PL563502\n",
              "1    T0000000114   50000  2019-02-01 01:37:23    HD678019\n",
              "2    T0000000115  120000  2019-02-01 02:34:19    HD298120"
            ]
          },
          "metadata": {
            "tags": []
          },
          "execution_count": 37
        }
      ]
    },
    {
      "cell_type": "code",
      "metadata": {
        "colab": {
          "base_uri": "https://localhost:8080/"
        },
        "id": "BwRs18YXngrA",
        "outputId": "881330ea-af2f-41c8-ab00-bf459c1baf10"
      },
      "source": [
        "print(len(transaction_1))\n",
        "print(len(transaction_2))\n",
        "print(len(transaction))"
      ],
      "execution_count": 38,
      "outputs": [
        {
          "output_type": "stream",
          "text": [
            "5000\n",
            "1786\n",
            "6786\n"
          ],
          "name": "stdout"
        }
      ]
    },
    {
      "cell_type": "code",
      "metadata": {
        "colab": {
          "base_uri": "https://localhost:8080/",
          "height": 204
        },
        "id": "DCYn9kF7lg5O",
        "outputId": "8f6c6a50-5815-4c23-e4e7-a461538f8108"
      },
      "source": [
        "transaction_detail_1 = pd.read_csv(\"transaction_detail_1.csv\")\n",
        "transaction_detail_1.head()"
      ],
      "execution_count": 39,
      "outputs": [
        {
          "output_type": "execute_result",
          "data": {
            "text/html": [
              "<div>\n",
              "<style scoped>\n",
              "    .dataframe tbody tr th:only-of-type {\n",
              "        vertical-align: middle;\n",
              "    }\n",
              "\n",
              "    .dataframe tbody tr th {\n",
              "        vertical-align: top;\n",
              "    }\n",
              "\n",
              "    .dataframe thead th {\n",
              "        text-align: right;\n",
              "    }\n",
              "</style>\n",
              "<table border=\"1\" class=\"dataframe\">\n",
              "  <thead>\n",
              "    <tr style=\"text-align: right;\">\n",
              "      <th></th>\n",
              "      <th>detail_id</th>\n",
              "      <th>transaction_id</th>\n",
              "      <th>item_id</th>\n",
              "      <th>quantity</th>\n",
              "    </tr>\n",
              "  </thead>\n",
              "  <tbody>\n",
              "    <tr>\n",
              "      <th>0</th>\n",
              "      <td>0</td>\n",
              "      <td>T0000000113</td>\n",
              "      <td>S005</td>\n",
              "      <td>1</td>\n",
              "    </tr>\n",
              "    <tr>\n",
              "      <th>1</th>\n",
              "      <td>1</td>\n",
              "      <td>T0000000114</td>\n",
              "      <td>S001</td>\n",
              "      <td>1</td>\n",
              "    </tr>\n",
              "    <tr>\n",
              "      <th>2</th>\n",
              "      <td>2</td>\n",
              "      <td>T0000000115</td>\n",
              "      <td>S003</td>\n",
              "      <td>1</td>\n",
              "    </tr>\n",
              "    <tr>\n",
              "      <th>3</th>\n",
              "      <td>3</td>\n",
              "      <td>T0000000116</td>\n",
              "      <td>S005</td>\n",
              "      <td>1</td>\n",
              "    </tr>\n",
              "    <tr>\n",
              "      <th>4</th>\n",
              "      <td>4</td>\n",
              "      <td>T0000000117</td>\n",
              "      <td>S002</td>\n",
              "      <td>2</td>\n",
              "    </tr>\n",
              "  </tbody>\n",
              "</table>\n",
              "</div>"
            ],
            "text/plain": [
              "   detail_id transaction_id item_id  quantity\n",
              "0          0    T0000000113    S005         1\n",
              "1          1    T0000000114    S001         1\n",
              "2          2    T0000000115    S003         1\n",
              "3          3    T0000000116    S005         1\n",
              "4          4    T0000000117    S002         2"
            ]
          },
          "metadata": {
            "tags": []
          },
          "execution_count": 39
        }
      ]
    },
    {
      "cell_type": "code",
      "metadata": {
        "colab": {
          "base_uri": "https://localhost:8080/",
          "height": 204
        },
        "id": "fy_cbZD_odot",
        "outputId": "f1743323-4434-4dce-acb8-bb6cc901dde8"
      },
      "source": [
        "transaction_detail_2 = pd.read_csv(\"transaction_detail_2.csv\")\n",
        "transaction_detail_2.head()"
      ],
      "execution_count": 48,
      "outputs": [
        {
          "output_type": "execute_result",
          "data": {
            "text/html": [
              "<div>\n",
              "<style scoped>\n",
              "    .dataframe tbody tr th:only-of-type {\n",
              "        vertical-align: middle;\n",
              "    }\n",
              "\n",
              "    .dataframe tbody tr th {\n",
              "        vertical-align: top;\n",
              "    }\n",
              "\n",
              "    .dataframe thead th {\n",
              "        text-align: right;\n",
              "    }\n",
              "</style>\n",
              "<table border=\"1\" class=\"dataframe\">\n",
              "  <thead>\n",
              "    <tr style=\"text-align: right;\">\n",
              "      <th></th>\n",
              "      <th>detail_id</th>\n",
              "      <th>transaction_id</th>\n",
              "      <th>item_id</th>\n",
              "      <th>quantity</th>\n",
              "    </tr>\n",
              "  </thead>\n",
              "  <tbody>\n",
              "    <tr>\n",
              "      <th>0</th>\n",
              "      <td>5000</td>\n",
              "      <td>T0000004870</td>\n",
              "      <td>S002</td>\n",
              "      <td>3</td>\n",
              "    </tr>\n",
              "    <tr>\n",
              "      <th>1</th>\n",
              "      <td>5001</td>\n",
              "      <td>T0000004871</td>\n",
              "      <td>S003</td>\n",
              "      <td>1</td>\n",
              "    </tr>\n",
              "    <tr>\n",
              "      <th>2</th>\n",
              "      <td>5002</td>\n",
              "      <td>T0000004872</td>\n",
              "      <td>S001</td>\n",
              "      <td>2</td>\n",
              "    </tr>\n",
              "    <tr>\n",
              "      <th>3</th>\n",
              "      <td>5003</td>\n",
              "      <td>T0000004873</td>\n",
              "      <td>S004</td>\n",
              "      <td>1</td>\n",
              "    </tr>\n",
              "    <tr>\n",
              "      <th>4</th>\n",
              "      <td>5004</td>\n",
              "      <td>T0000004874</td>\n",
              "      <td>S003</td>\n",
              "      <td>2</td>\n",
              "    </tr>\n",
              "  </tbody>\n",
              "</table>\n",
              "</div>"
            ],
            "text/plain": [
              "   detail_id transaction_id item_id  quantity\n",
              "0       5000    T0000004870    S002         3\n",
              "1       5001    T0000004871    S003         1\n",
              "2       5002    T0000004872    S001         2\n",
              "3       5003    T0000004873    S004         1\n",
              "4       5004    T0000004874    S003         2"
            ]
          },
          "metadata": {
            "tags": []
          },
          "execution_count": 48
        }
      ]
    },
    {
      "cell_type": "code",
      "metadata": {
        "colab": {
          "base_uri": "https://localhost:8080/",
          "height": 142
        },
        "id": "yItAf5aEor44",
        "outputId": "84c5ff80-4f89-44ec-a516-5972aef29f94"
      },
      "source": [
        "transaction_detail = pd.concat([transaction_detail_1, transaction_detail_2], ignore_index=True) #i gnore_index=True : 기존 인덱스를 무시\n",
        "transaction_detail.head(3)"
      ],
      "execution_count": 49,
      "outputs": [
        {
          "output_type": "execute_result",
          "data": {
            "text/html": [
              "<div>\n",
              "<style scoped>\n",
              "    .dataframe tbody tr th:only-of-type {\n",
              "        vertical-align: middle;\n",
              "    }\n",
              "\n",
              "    .dataframe tbody tr th {\n",
              "        vertical-align: top;\n",
              "    }\n",
              "\n",
              "    .dataframe thead th {\n",
              "        text-align: right;\n",
              "    }\n",
              "</style>\n",
              "<table border=\"1\" class=\"dataframe\">\n",
              "  <thead>\n",
              "    <tr style=\"text-align: right;\">\n",
              "      <th></th>\n",
              "      <th>detail_id</th>\n",
              "      <th>transaction_id</th>\n",
              "      <th>item_id</th>\n",
              "      <th>quantity</th>\n",
              "    </tr>\n",
              "  </thead>\n",
              "  <tbody>\n",
              "    <tr>\n",
              "      <th>0</th>\n",
              "      <td>0</td>\n",
              "      <td>T0000000113</td>\n",
              "      <td>S005</td>\n",
              "      <td>1</td>\n",
              "    </tr>\n",
              "    <tr>\n",
              "      <th>1</th>\n",
              "      <td>1</td>\n",
              "      <td>T0000000114</td>\n",
              "      <td>S001</td>\n",
              "      <td>1</td>\n",
              "    </tr>\n",
              "    <tr>\n",
              "      <th>2</th>\n",
              "      <td>2</td>\n",
              "      <td>T0000000115</td>\n",
              "      <td>S003</td>\n",
              "      <td>1</td>\n",
              "    </tr>\n",
              "  </tbody>\n",
              "</table>\n",
              "</div>"
            ],
            "text/plain": [
              "   detail_id transaction_id item_id  quantity\n",
              "0          0    T0000000113    S005         1\n",
              "1          1    T0000000114    S001         1\n",
              "2          2    T0000000115    S003         1"
            ]
          },
          "metadata": {
            "tags": []
          },
          "execution_count": 49
        }
      ]
    },
    {
      "cell_type": "code",
      "metadata": {
        "colab": {
          "base_uri": "https://localhost:8080/"
        },
        "id": "xHBpR35_o1WL",
        "outputId": "c263fa80-c3fd-4b21-a466-0946b6754f27"
      },
      "source": [
        "print(len(transaction_detail_1))\n",
        "print(len(transaction_detail_2))\n",
        "print(len(transaction_detail))"
      ],
      "execution_count": 50,
      "outputs": [
        {
          "output_type": "stream",
          "text": [
            "5000\n",
            "2144\n",
            "7144\n"
          ],
          "name": "stdout"
        }
      ]
    },
    {
      "cell_type": "code",
      "metadata": {
        "colab": {
          "base_uri": "https://localhost:8080/",
          "height": 204
        },
        "id": "vBzshZLro6qg",
        "outputId": "2dbad921-ed71-4fda-c667-7f663e45e363"
      },
      "source": [
        "join_data = pd.merge(transaction_detail, transaction[['transaction_id', 'payment_date', 'customer_id']],\n",
        "                     on = 'transaction_id', how='left')\n",
        "join_data.head()"
      ],
      "execution_count": 51,
      "outputs": [
        {
          "output_type": "execute_result",
          "data": {
            "text/html": [
              "<div>\n",
              "<style scoped>\n",
              "    .dataframe tbody tr th:only-of-type {\n",
              "        vertical-align: middle;\n",
              "    }\n",
              "\n",
              "    .dataframe tbody tr th {\n",
              "        vertical-align: top;\n",
              "    }\n",
              "\n",
              "    .dataframe thead th {\n",
              "        text-align: right;\n",
              "    }\n",
              "</style>\n",
              "<table border=\"1\" class=\"dataframe\">\n",
              "  <thead>\n",
              "    <tr style=\"text-align: right;\">\n",
              "      <th></th>\n",
              "      <th>detail_id</th>\n",
              "      <th>transaction_id</th>\n",
              "      <th>item_id</th>\n",
              "      <th>quantity</th>\n",
              "      <th>payment_date</th>\n",
              "      <th>customer_id</th>\n",
              "    </tr>\n",
              "  </thead>\n",
              "  <tbody>\n",
              "    <tr>\n",
              "      <th>0</th>\n",
              "      <td>0</td>\n",
              "      <td>T0000000113</td>\n",
              "      <td>S005</td>\n",
              "      <td>1</td>\n",
              "      <td>2019-02-01 01:36:57</td>\n",
              "      <td>PL563502</td>\n",
              "    </tr>\n",
              "    <tr>\n",
              "      <th>1</th>\n",
              "      <td>1</td>\n",
              "      <td>T0000000114</td>\n",
              "      <td>S001</td>\n",
              "      <td>1</td>\n",
              "      <td>2019-02-01 01:37:23</td>\n",
              "      <td>HD678019</td>\n",
              "    </tr>\n",
              "    <tr>\n",
              "      <th>2</th>\n",
              "      <td>2</td>\n",
              "      <td>T0000000115</td>\n",
              "      <td>S003</td>\n",
              "      <td>1</td>\n",
              "      <td>2019-02-01 02:34:19</td>\n",
              "      <td>HD298120</td>\n",
              "    </tr>\n",
              "    <tr>\n",
              "      <th>3</th>\n",
              "      <td>3</td>\n",
              "      <td>T0000000116</td>\n",
              "      <td>S005</td>\n",
              "      <td>1</td>\n",
              "      <td>2019-02-01 02:47:23</td>\n",
              "      <td>IK452215</td>\n",
              "    </tr>\n",
              "    <tr>\n",
              "      <th>4</th>\n",
              "      <td>4</td>\n",
              "      <td>T0000000117</td>\n",
              "      <td>S002</td>\n",
              "      <td>2</td>\n",
              "      <td>2019-02-01 04:33:46</td>\n",
              "      <td>PL542865</td>\n",
              "    </tr>\n",
              "  </tbody>\n",
              "</table>\n",
              "</div>"
            ],
            "text/plain": [
              "   detail_id transaction_id item_id  quantity         payment_date customer_id\n",
              "0          0    T0000000113    S005         1  2019-02-01 01:36:57    PL563502\n",
              "1          1    T0000000114    S001         1  2019-02-01 01:37:23    HD678019\n",
              "2          2    T0000000115    S003         1  2019-02-01 02:34:19    HD298120\n",
              "3          3    T0000000116    S005         1  2019-02-01 02:47:23    IK452215\n",
              "4          4    T0000000117    S002         2  2019-02-01 04:33:46    PL542865"
            ]
          },
          "metadata": {
            "tags": []
          },
          "execution_count": 51
        }
      ]
    },
    {
      "cell_type": "code",
      "metadata": {
        "colab": {
          "base_uri": "https://localhost:8080/"
        },
        "id": "7GAtOa7eriFT",
        "outputId": "ae75da38-1d39-4edc-85f3-fe4595b4aa2a"
      },
      "source": [
        "print(len(transaction_detail))\n",
        "print(len(transaction))\n",
        "print(len(join_data))"
      ],
      "execution_count": 52,
      "outputs": [
        {
          "output_type": "stream",
          "text": [
            "7144\n",
            "6786\n",
            "7144\n"
          ],
          "name": "stdout"
        }
      ]
    },
    {
      "cell_type": "code",
      "metadata": {
        "colab": {
          "base_uri": "https://localhost:8080/",
          "height": 394
        },
        "id": "2OSgyR1gpVBS",
        "outputId": "80a01499-9f0f-4ba9-cf7a-c0f8628a2dbe"
      },
      "source": [
        "join_data = pd.merge(join_data, customer_master, on = 'customer_id', how ='left')\n",
        "join_data = pd.merge(join_data, item_master, on = 'item_id', how = 'left')\n",
        "join_data.head()"
      ],
      "execution_count": 53,
      "outputs": [
        {
          "output_type": "execute_result",
          "data": {
            "text/html": [
              "<div>\n",
              "<style scoped>\n",
              "    .dataframe tbody tr th:only-of-type {\n",
              "        vertical-align: middle;\n",
              "    }\n",
              "\n",
              "    .dataframe tbody tr th {\n",
              "        vertical-align: top;\n",
              "    }\n",
              "\n",
              "    .dataframe thead th {\n",
              "        text-align: right;\n",
              "    }\n",
              "</style>\n",
              "<table border=\"1\" class=\"dataframe\">\n",
              "  <thead>\n",
              "    <tr style=\"text-align: right;\">\n",
              "      <th></th>\n",
              "      <th>detail_id</th>\n",
              "      <th>transaction_id</th>\n",
              "      <th>item_id</th>\n",
              "      <th>quantity</th>\n",
              "      <th>payment_date</th>\n",
              "      <th>customer_id</th>\n",
              "      <th>customer_name</th>\n",
              "      <th>registration_date</th>\n",
              "      <th>email</th>\n",
              "      <th>gender</th>\n",
              "      <th>age</th>\n",
              "      <th>birth</th>\n",
              "      <th>pref</th>\n",
              "      <th>item_name</th>\n",
              "      <th>item_price</th>\n",
              "    </tr>\n",
              "  </thead>\n",
              "  <tbody>\n",
              "    <tr>\n",
              "      <th>0</th>\n",
              "      <td>0</td>\n",
              "      <td>T0000000113</td>\n",
              "      <td>S005</td>\n",
              "      <td>1</td>\n",
              "      <td>2019-02-01 01:36:57</td>\n",
              "      <td>PL563502</td>\n",
              "      <td>김태경</td>\n",
              "      <td>2019-01-07 14:34</td>\n",
              "      <td>imoto_yoshimasa@example.com</td>\n",
              "      <td>M</td>\n",
              "      <td>30</td>\n",
              "      <td>1989-07-15</td>\n",
              "      <td>대전광역시</td>\n",
              "      <td>PC-E</td>\n",
              "      <td>210000</td>\n",
              "    </tr>\n",
              "    <tr>\n",
              "      <th>1</th>\n",
              "      <td>1</td>\n",
              "      <td>T0000000114</td>\n",
              "      <td>S001</td>\n",
              "      <td>1</td>\n",
              "      <td>2019-02-01 01:37:23</td>\n",
              "      <td>HD678019</td>\n",
              "      <td>김영웅</td>\n",
              "      <td>2019-01-27 18:00</td>\n",
              "      <td>mifune_rokurou@example.com</td>\n",
              "      <td>M</td>\n",
              "      <td>73</td>\n",
              "      <td>1945-11-29</td>\n",
              "      <td>서울특별시</td>\n",
              "      <td>PC-A</td>\n",
              "      <td>50000</td>\n",
              "    </tr>\n",
              "    <tr>\n",
              "      <th>2</th>\n",
              "      <td>2</td>\n",
              "      <td>T0000000115</td>\n",
              "      <td>S003</td>\n",
              "      <td>1</td>\n",
              "      <td>2019-02-01 02:34:19</td>\n",
              "      <td>HD298120</td>\n",
              "      <td>김강현</td>\n",
              "      <td>2019-01-11 8:16</td>\n",
              "      <td>yamane_kogan@example.com</td>\n",
              "      <td>M</td>\n",
              "      <td>42</td>\n",
              "      <td>1977-05-17</td>\n",
              "      <td>광주광역시</td>\n",
              "      <td>PC-C</td>\n",
              "      <td>120000</td>\n",
              "    </tr>\n",
              "    <tr>\n",
              "      <th>3</th>\n",
              "      <td>3</td>\n",
              "      <td>T0000000116</td>\n",
              "      <td>S005</td>\n",
              "      <td>1</td>\n",
              "      <td>2019-02-01 02:47:23</td>\n",
              "      <td>IK452215</td>\n",
              "      <td>김주한</td>\n",
              "      <td>2019-01-10 5:07</td>\n",
              "      <td>ikeda_natsumi@example.com</td>\n",
              "      <td>F</td>\n",
              "      <td>47</td>\n",
              "      <td>1972-03-17</td>\n",
              "      <td>인천광역시</td>\n",
              "      <td>PC-E</td>\n",
              "      <td>210000</td>\n",
              "    </tr>\n",
              "    <tr>\n",
              "      <th>4</th>\n",
              "      <td>4</td>\n",
              "      <td>T0000000117</td>\n",
              "      <td>S002</td>\n",
              "      <td>2</td>\n",
              "      <td>2019-02-01 04:33:46</td>\n",
              "      <td>PL542865</td>\n",
              "      <td>김영빈</td>\n",
              "      <td>2019-01-25 6:46</td>\n",
              "      <td>kurita_kenichi@example.com</td>\n",
              "      <td>M</td>\n",
              "      <td>74</td>\n",
              "      <td>1944-12-17</td>\n",
              "      <td>광주광역시</td>\n",
              "      <td>PC-B</td>\n",
              "      <td>85000</td>\n",
              "    </tr>\n",
              "  </tbody>\n",
              "</table>\n",
              "</div>"
            ],
            "text/plain": [
              "   detail_id transaction_id item_id  ...   pref item_name item_price\n",
              "0          0    T0000000113    S005  ...  대전광역시      PC-E     210000\n",
              "1          1    T0000000114    S001  ...  서울특별시      PC-A      50000\n",
              "2          2    T0000000115    S003  ...  광주광역시      PC-C     120000\n",
              "3          3    T0000000116    S005  ...  인천광역시      PC-E     210000\n",
              "4          4    T0000000117    S002  ...  광주광역시      PC-B      85000\n",
              "\n",
              "[5 rows x 15 columns]"
            ]
          },
          "metadata": {
            "tags": []
          },
          "execution_count": 53
        }
      ]
    },
    {
      "cell_type": "code",
      "metadata": {
        "colab": {
          "base_uri": "https://localhost:8080/",
          "height": 204
        },
        "id": "0PKXuX4nqQe1",
        "outputId": "6cf76ba7-1189-4adb-a20b-be5c6beea224"
      },
      "source": [
        "join_data['price'] = join_data['quantity'] * join_data['item_price']\n",
        "join_data[['quantity','item_price','price']].head()"
      ],
      "execution_count": 54,
      "outputs": [
        {
          "output_type": "execute_result",
          "data": {
            "text/html": [
              "<div>\n",
              "<style scoped>\n",
              "    .dataframe tbody tr th:only-of-type {\n",
              "        vertical-align: middle;\n",
              "    }\n",
              "\n",
              "    .dataframe tbody tr th {\n",
              "        vertical-align: top;\n",
              "    }\n",
              "\n",
              "    .dataframe thead th {\n",
              "        text-align: right;\n",
              "    }\n",
              "</style>\n",
              "<table border=\"1\" class=\"dataframe\">\n",
              "  <thead>\n",
              "    <tr style=\"text-align: right;\">\n",
              "      <th></th>\n",
              "      <th>quantity</th>\n",
              "      <th>item_price</th>\n",
              "      <th>price</th>\n",
              "    </tr>\n",
              "  </thead>\n",
              "  <tbody>\n",
              "    <tr>\n",
              "      <th>0</th>\n",
              "      <td>1</td>\n",
              "      <td>210000</td>\n",
              "      <td>210000</td>\n",
              "    </tr>\n",
              "    <tr>\n",
              "      <th>1</th>\n",
              "      <td>1</td>\n",
              "      <td>50000</td>\n",
              "      <td>50000</td>\n",
              "    </tr>\n",
              "    <tr>\n",
              "      <th>2</th>\n",
              "      <td>1</td>\n",
              "      <td>120000</td>\n",
              "      <td>120000</td>\n",
              "    </tr>\n",
              "    <tr>\n",
              "      <th>3</th>\n",
              "      <td>1</td>\n",
              "      <td>210000</td>\n",
              "      <td>210000</td>\n",
              "    </tr>\n",
              "    <tr>\n",
              "      <th>4</th>\n",
              "      <td>2</td>\n",
              "      <td>85000</td>\n",
              "      <td>170000</td>\n",
              "    </tr>\n",
              "  </tbody>\n",
              "</table>\n",
              "</div>"
            ],
            "text/plain": [
              "   quantity  item_price   price\n",
              "0         1      210000  210000\n",
              "1         1       50000   50000\n",
              "2         1      120000  120000\n",
              "3         1      210000  210000\n",
              "4         2       85000  170000"
            ]
          },
          "metadata": {
            "tags": []
          },
          "execution_count": 54
        }
      ]
    },
    {
      "cell_type": "code",
      "metadata": {
        "colab": {
          "base_uri": "https://localhost:8080/"
        },
        "id": "MDWCMqgoqlEy",
        "outputId": "bd1e48ec-c716-4583-fe20-f632ca5fbffa"
      },
      "source": [
        "# 데이터 검토\n",
        "print(join_data['price'].sum())\n",
        "print(transaction['price'].sum())"
      ],
      "execution_count": 55,
      "outputs": [
        {
          "output_type": "stream",
          "text": [
            "971135000\n",
            "971135000\n"
          ],
          "name": "stdout"
        }
      ]
    },
    {
      "cell_type": "code",
      "metadata": {
        "colab": {
          "base_uri": "https://localhost:8080/"
        },
        "id": "vLOdzxqyrtQ3",
        "outputId": "30e6271e-0b25-4e43-ecf1-f167f97dc528"
      },
      "source": [
        "join_data.isnull().sum()"
      ],
      "execution_count": 56,
      "outputs": [
        {
          "output_type": "execute_result",
          "data": {
            "text/plain": [
              "detail_id            0\n",
              "transaction_id       0\n",
              "item_id              0\n",
              "quantity             0\n",
              "payment_date         0\n",
              "customer_id          0\n",
              "customer_name        0\n",
              "registration_date    0\n",
              "email                0\n",
              "gender               0\n",
              "age                  0\n",
              "birth                0\n",
              "pref                 0\n",
              "item_name            0\n",
              "item_price           0\n",
              "price                0\n",
              "dtype: int64"
            ]
          },
          "metadata": {
            "tags": []
          },
          "execution_count": 56
        }
      ]
    },
    {
      "cell_type": "code",
      "metadata": {
        "colab": {
          "base_uri": "https://localhost:8080/",
          "height": 297
        },
        "id": "uHYLcPbSry5N",
        "outputId": "14d9a86f-4915-4aac-d244-b8f42dd2b900"
      },
      "source": [
        "join_data.describe()"
      ],
      "execution_count": 57,
      "outputs": [
        {
          "output_type": "execute_result",
          "data": {
            "text/html": [
              "<div>\n",
              "<style scoped>\n",
              "    .dataframe tbody tr th:only-of-type {\n",
              "        vertical-align: middle;\n",
              "    }\n",
              "\n",
              "    .dataframe tbody tr th {\n",
              "        vertical-align: top;\n",
              "    }\n",
              "\n",
              "    .dataframe thead th {\n",
              "        text-align: right;\n",
              "    }\n",
              "</style>\n",
              "<table border=\"1\" class=\"dataframe\">\n",
              "  <thead>\n",
              "    <tr style=\"text-align: right;\">\n",
              "      <th></th>\n",
              "      <th>detail_id</th>\n",
              "      <th>quantity</th>\n",
              "      <th>age</th>\n",
              "      <th>item_price</th>\n",
              "      <th>price</th>\n",
              "    </tr>\n",
              "  </thead>\n",
              "  <tbody>\n",
              "    <tr>\n",
              "      <th>count</th>\n",
              "      <td>7144.000000</td>\n",
              "      <td>7144.000000</td>\n",
              "      <td>7144.000000</td>\n",
              "      <td>7144.000000</td>\n",
              "      <td>7144.000000</td>\n",
              "    </tr>\n",
              "    <tr>\n",
              "      <th>mean</th>\n",
              "      <td>3571.500000</td>\n",
              "      <td>1.199888</td>\n",
              "      <td>50.265677</td>\n",
              "      <td>121698.628219</td>\n",
              "      <td>135937.150056</td>\n",
              "    </tr>\n",
              "    <tr>\n",
              "      <th>std</th>\n",
              "      <td>2062.439494</td>\n",
              "      <td>0.513647</td>\n",
              "      <td>17.190314</td>\n",
              "      <td>64571.311830</td>\n",
              "      <td>68511.453297</td>\n",
              "    </tr>\n",
              "    <tr>\n",
              "      <th>min</th>\n",
              "      <td>0.000000</td>\n",
              "      <td>1.000000</td>\n",
              "      <td>20.000000</td>\n",
              "      <td>50000.000000</td>\n",
              "      <td>50000.000000</td>\n",
              "    </tr>\n",
              "    <tr>\n",
              "      <th>25%</th>\n",
              "      <td>1785.750000</td>\n",
              "      <td>1.000000</td>\n",
              "      <td>36.000000</td>\n",
              "      <td>50000.000000</td>\n",
              "      <td>85000.000000</td>\n",
              "    </tr>\n",
              "    <tr>\n",
              "      <th>50%</th>\n",
              "      <td>3571.500000</td>\n",
              "      <td>1.000000</td>\n",
              "      <td>50.000000</td>\n",
              "      <td>102500.000000</td>\n",
              "      <td>120000.000000</td>\n",
              "    </tr>\n",
              "    <tr>\n",
              "      <th>75%</th>\n",
              "      <td>5357.250000</td>\n",
              "      <td>1.000000</td>\n",
              "      <td>65.000000</td>\n",
              "      <td>187500.000000</td>\n",
              "      <td>210000.000000</td>\n",
              "    </tr>\n",
              "    <tr>\n",
              "      <th>max</th>\n",
              "      <td>7143.000000</td>\n",
              "      <td>4.000000</td>\n",
              "      <td>80.000000</td>\n",
              "      <td>210000.000000</td>\n",
              "      <td>420000.000000</td>\n",
              "    </tr>\n",
              "  </tbody>\n",
              "</table>\n",
              "</div>"
            ],
            "text/plain": [
              "         detail_id     quantity          age     item_price          price\n",
              "count  7144.000000  7144.000000  7144.000000    7144.000000    7144.000000\n",
              "mean   3571.500000     1.199888    50.265677  121698.628219  135937.150056\n",
              "std    2062.439494     0.513647    17.190314   64571.311830   68511.453297\n",
              "min       0.000000     1.000000    20.000000   50000.000000   50000.000000\n",
              "25%    1785.750000     1.000000    36.000000   50000.000000   85000.000000\n",
              "50%    3571.500000     1.000000    50.000000  102500.000000  120000.000000\n",
              "75%    5357.250000     1.000000    65.000000  187500.000000  210000.000000\n",
              "max    7143.000000     4.000000    80.000000  210000.000000  420000.000000"
            ]
          },
          "metadata": {
            "tags": []
          },
          "execution_count": 57
        }
      ]
    },
    {
      "cell_type": "code",
      "metadata": {
        "id": "mT990Q0Er1kt"
      },
      "source": [
        ""
      ],
      "execution_count": null,
      "outputs": []
    }
  ]
}