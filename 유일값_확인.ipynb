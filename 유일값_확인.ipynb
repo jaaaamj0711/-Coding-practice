{
  "nbformat": 4,
  "nbformat_minor": 0,
  "metadata": {
    "colab": {
      "name": "유일값 확인.ipynb",
      "provenance": [],
      "toc_visible": true,
      "mount_file_id": "1IUtxpoSeW_h__pAWQW1_dNI1fp3Os-Zr",
      "authorship_tag": "ABX9TyP5/RKwKCzYEyYvzpOYLGqk",
      "include_colab_link": true
    },
    "kernelspec": {
      "name": "python3",
      "display_name": "Python 3"
    }
  },
  "cells": [
    {
      "cell_type": "markdown",
      "metadata": {
        "id": "view-in-github",
        "colab_type": "text"
      },
      "source": [
        "<a href=\"https://colab.research.google.com/github/jaaaamj0711/-Coding-practice/blob/main/%EC%9C%A0%EC%9D%BC%EA%B0%92_%ED%99%95%EC%9D%B8.ipynb\" target=\"_parent\"><img src=\"https://colab.research.google.com/assets/colab-badge.svg\" alt=\"Open In Colab\"/></a>"
      ]
    },
    {
      "cell_type": "markdown",
      "metadata": {
        "id": "oDyoZQVZsVjX"
      },
      "source": [
        "# [Pandas] 유일한 값 찾기 unique(), nunique(), value_counts()"
      ]
    },
    {
      "cell_type": "markdown",
      "metadata": {
        "id": "L9gfP_0Asbku"
      },
      "source": [
        "데이터 분석을 하면서 우리는 유일한 값, 즉 고유한 값을 찾고 싶은 순간들이 있습니다. 이번 시간에는 그 종류들에 대해 알아보도록 하겠습니다"
      ]
    },
    {
      "cell_type": "code",
      "metadata": {
        "id": "Q8sTkYu3efSS"
      },
      "source": [
        "import pandas as pd"
      ],
      "execution_count": 2,
      "outputs": []
    },
    {
      "cell_type": "code",
      "metadata": {
        "id": "OtSfDaijf7_A",
        "colab": {
          "base_uri": "https://localhost:8080/",
          "height": 197
        },
        "outputId": "0b0cf354-bfd1-4368-db37-2f4154bc1c86"
      },
      "source": [
        "data = pd.read_csv(\"/content/drive/MyDrive/bread basket.csv\")\r\n",
        "data.head()"
      ],
      "execution_count": 4,
      "outputs": [
        {
          "output_type": "execute_result",
          "data": {
            "text/html": [
              "<div>\n",
              "<style scoped>\n",
              "    .dataframe tbody tr th:only-of-type {\n",
              "        vertical-align: middle;\n",
              "    }\n",
              "\n",
              "    .dataframe tbody tr th {\n",
              "        vertical-align: top;\n",
              "    }\n",
              "\n",
              "    .dataframe thead th {\n",
              "        text-align: right;\n",
              "    }\n",
              "</style>\n",
              "<table border=\"1\" class=\"dataframe\">\n",
              "  <thead>\n",
              "    <tr style=\"text-align: right;\">\n",
              "      <th></th>\n",
              "      <th>Transaction</th>\n",
              "      <th>Item</th>\n",
              "      <th>date_time</th>\n",
              "      <th>period_day</th>\n",
              "      <th>weekday_weekend</th>\n",
              "    </tr>\n",
              "  </thead>\n",
              "  <tbody>\n",
              "    <tr>\n",
              "      <th>0</th>\n",
              "      <td>1</td>\n",
              "      <td>Bread</td>\n",
              "      <td>30-10-2016 09:58</td>\n",
              "      <td>morning</td>\n",
              "      <td>weekend</td>\n",
              "    </tr>\n",
              "    <tr>\n",
              "      <th>1</th>\n",
              "      <td>2</td>\n",
              "      <td>Scandinavian</td>\n",
              "      <td>30-10-2016 10:05</td>\n",
              "      <td>morning</td>\n",
              "      <td>weekend</td>\n",
              "    </tr>\n",
              "    <tr>\n",
              "      <th>2</th>\n",
              "      <td>2</td>\n",
              "      <td>Scandinavian</td>\n",
              "      <td>30-10-2016 10:05</td>\n",
              "      <td>morning</td>\n",
              "      <td>weekend</td>\n",
              "    </tr>\n",
              "    <tr>\n",
              "      <th>3</th>\n",
              "      <td>3</td>\n",
              "      <td>Hot chocolate</td>\n",
              "      <td>30-10-2016 10:07</td>\n",
              "      <td>morning</td>\n",
              "      <td>weekend</td>\n",
              "    </tr>\n",
              "    <tr>\n",
              "      <th>4</th>\n",
              "      <td>3</td>\n",
              "      <td>Jam</td>\n",
              "      <td>30-10-2016 10:07</td>\n",
              "      <td>morning</td>\n",
              "      <td>weekend</td>\n",
              "    </tr>\n",
              "  </tbody>\n",
              "</table>\n",
              "</div>"
            ],
            "text/plain": [
              "   Transaction           Item         date_time period_day weekday_weekend\n",
              "0            1          Bread  30-10-2016 09:58    morning         weekend\n",
              "1            2   Scandinavian  30-10-2016 10:05    morning         weekend\n",
              "2            2   Scandinavian  30-10-2016 10:05    morning         weekend\n",
              "3            3  Hot chocolate  30-10-2016 10:07    morning         weekend\n",
              "4            3            Jam  30-10-2016 10:07    morning         weekend"
            ]
          },
          "metadata": {
            "tags": []
          },
          "execution_count": 4
        }
      ]
    },
    {
      "cell_type": "markdown",
      "metadata": {
        "id": "vsLH2MoKsd6i"
      },
      "source": [
        "## 1.unique()"
      ]
    },
    {
      "cell_type": "markdown",
      "metadata": {
        "id": "fs1wqru5srCV"
      },
      "source": [
        "unique()는 데이터에 고유값들이 어떠한 종류들이 있는지 알고 싶을때 사용하는 함수입니다. 예시로 설명을 해보도록 하겠습니다."
      ]
    },
    {
      "cell_type": "code",
      "metadata": {
        "colab": {
          "base_uri": "https://localhost:8080/"
        },
        "id": "VgZAEtUSsx8i",
        "outputId": "4ab66d7e-8724-439f-c758-50740cf5918b"
      },
      "source": [
        "data['Item'].unique()"
      ],
      "execution_count": 5,
      "outputs": [
        {
          "output_type": "execute_result",
          "data": {
            "text/plain": [
              "array(['Bread', 'Scandinavian', 'Hot chocolate', 'Jam', 'Cookies',\n",
              "       'Muffin', 'Coffee', 'Pastry', 'Medialuna', 'Tea', 'Tartine',\n",
              "       'Basket', 'Mineral water', 'Farm House', 'Fudge', 'Juice',\n",
              "       \"Ella's Kitchen Pouches\", 'Victorian Sponge', 'Frittata',\n",
              "       'Hearty & Seasonal', 'Soup', 'Pick and Mix Bowls', 'Smoothies',\n",
              "       'Cake', 'Mighty Protein', 'Chicken sand', 'Coke',\n",
              "       'My-5 Fruit Shoot', 'Focaccia', 'Sandwich', 'Alfajores', 'Eggs',\n",
              "       'Brownie', 'Dulce de Leche', 'Honey', 'The BART', 'Granola',\n",
              "       'Fairy Doors', 'Empanadas', 'Keeping It Local', 'Art Tray',\n",
              "       'Bowl Nic Pitt', 'Bread Pudding', 'Adjustment', 'Truffles',\n",
              "       'Chimichurri Oil', 'Bacon', 'Spread', 'Kids biscuit', 'Siblings',\n",
              "       'Caramel bites', 'Jammie Dodgers', 'Tiffin', 'Olum & polenta',\n",
              "       'Polenta', 'The Nomad', 'Hack the stack', 'Bakewell',\n",
              "       'Lemon and coconut', 'Toast', 'Scone', 'Crepes', 'Vegan mincepie',\n",
              "       'Bare Popcorn', 'Muesli', 'Crisps', 'Pintxos', 'Gingerbread syrup',\n",
              "       'Panatone', 'Brioche and salami', 'Afternoon with the baker',\n",
              "       'Salad', 'Chicken Stew', 'Spanish Brunch',\n",
              "       'Raspberry shortbread sandwich', 'Extra Salami or Feta',\n",
              "       'Duck egg', 'Baguette', \"Valentine's card\", 'Tshirt',\n",
              "       'Vegan Feast', 'Postcard', 'Nomad bag', 'Chocolates',\n",
              "       'Coffee granules ', 'Drinking chocolate spoons ',\n",
              "       'Christmas common', 'Argentina Night', 'Half slice Monster ',\n",
              "       'Gift voucher', 'Cherry me Dried fruit', 'Mortimer', 'Raw bars',\n",
              "       'Tacos/Fajita'], dtype=object)"
            ]
          },
          "metadata": {
            "tags": []
          },
          "execution_count": 5
        }
      ]
    },
    {
      "cell_type": "markdown",
      "metadata": {
        "id": "Pukn84A4s-9L"
      },
      "source": [
        "출력된 결과를 보면 품목들의 종류들이 고유한 값으로 출력된 것을 볼 수 있습니다. 데이터의 종류들을 알고 싶을때 사용하면 유용한 함수입니다"
      ]
    },
    {
      "cell_type": "markdown",
      "metadata": {
        "id": "7Wr73b4rtDLt"
      },
      "source": [
        "## 2. nunique()"
      ]
    },
    {
      "cell_type": "markdown",
      "metadata": {
        "id": "co7R_iiPtNCx"
      },
      "source": [
        "nunique()는 데이터에 고유값들의 수를 출력해주는 함수입니다. 예시로 설명을 해보도록 하겠습니다."
      ]
    },
    {
      "cell_type": "code",
      "metadata": {
        "colab": {
          "base_uri": "https://localhost:8080/"
        },
        "id": "oApU8A_ztGPq",
        "outputId": "4aca8f2e-7467-498b-b055-b3c09362c3de"
      },
      "source": [
        "data['Item'].nunique()"
      ],
      "execution_count": 7,
      "outputs": [
        {
          "output_type": "execute_result",
          "data": {
            "text/plain": [
              "94"
            ]
          },
          "metadata": {
            "tags": []
          },
          "execution_count": 7
        }
      ]
    },
    {
      "cell_type": "markdown",
      "metadata": {
        "id": "iMNZgq7wtPOZ"
      },
      "source": [
        "출력된 결과를 보면 품목들의 수를 알려주고 있습니다. 데이터의 고유값의 총 수를 알고 싶을때 유용한 함수입니다."
      ]
    },
    {
      "cell_type": "markdown",
      "metadata": {
        "id": "XisWQ8LttJVX"
      },
      "source": [
        "## 3. value_counts()"
      ]
    },
    {
      "cell_type": "markdown",
      "metadata": {
        "id": "79ZGKOe3tVvU"
      },
      "source": [
        "value_counts()는 값별로 데이터의 수를 출력해주는 함수입니다. 예시로 설명을 해보도록 하겠습니다."
      ]
    },
    {
      "cell_type": "code",
      "metadata": {
        "colab": {
          "base_uri": "https://localhost:8080/"
        },
        "id": "hXJfNg-JtT12",
        "outputId": "0a7fe000-af3a-46d8-8fae-f193d5cb4b8a"
      },
      "source": [
        "data['Item'].value_counts()"
      ],
      "execution_count": 8,
      "outputs": [
        {
          "output_type": "execute_result",
          "data": {
            "text/plain": [
              "Coffee            5471\n",
              "Bread             3325\n",
              "Tea               1435\n",
              "Cake              1025\n",
              "Pastry             856\n",
              "                  ... \n",
              "Gift voucher         1\n",
              "The BART             1\n",
              "Bacon                1\n",
              "Olum & polenta       1\n",
              "Adjustment           1\n",
              "Name: Item, Length: 94, dtype: int64"
            ]
          },
          "metadata": {
            "tags": []
          },
          "execution_count": 8
        }
      ]
    },
    {
      "cell_type": "markdown",
      "metadata": {
        "id": "CD98Xs2StYt1"
      },
      "source": [
        "품목별로 데이터의 갯수를 출력해주고 있습니다. 데이터의 고유값별로 몇개씩 들어있는지 알고 싶을때 유용한 함수입니다. \r\n",
        "\r\n",
        "추가적으로 value_counts()는 기본적으로 내림차순으로 정렬을 해주게 됩니다. 따라서 오름차순으로 정렬을 하고 싶다면 ascending=True 옵션을 지정해 주면 됩니다."
      ]
    },
    {
      "cell_type": "code",
      "metadata": {
        "colab": {
          "base_uri": "https://localhost:8080/"
        },
        "id": "pRWPPXxGtb7X",
        "outputId": "110f28a5-2ff1-43ce-9d46-e4f8019f0cd4"
      },
      "source": [
        "data['Item'].value_counts(ascending=True)"
      ],
      "execution_count": 9,
      "outputs": [
        {
          "output_type": "execute_result",
          "data": {
            "text/plain": [
              "Adjustment           1\n",
              "Olum & polenta       1\n",
              "Bacon                1\n",
              "The BART             1\n",
              "Gift voucher         1\n",
              "                  ... \n",
              "Pastry             856\n",
              "Cake              1025\n",
              "Tea               1435\n",
              "Bread             3325\n",
              "Coffee            5471\n",
              "Name: Item, Length: 94, dtype: int64"
            ]
          },
          "metadata": {
            "tags": []
          },
          "execution_count": 9
        }
      ]
    },
    {
      "cell_type": "code",
      "metadata": {
        "id": "ya0R8HiIte0Z"
      },
      "source": [
        ""
      ],
      "execution_count": null,
      "outputs": []
    }
  ]
}